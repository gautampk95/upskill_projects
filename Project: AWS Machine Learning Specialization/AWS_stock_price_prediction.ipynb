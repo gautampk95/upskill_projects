{
 "cells": [
  {
   "cell_type": "markdown",
   "id": "02d5b20d",
   "metadata": {},
   "source": [
    "# Create a S3 Bucket"
   ]
  },
  {
   "cell_type": "code",
   "execution_count": 1,
   "id": "23d0d2b8",
   "metadata": {},
   "outputs": [],
   "source": [
    "import boto3\n",
    "\n",
    "bucket_name = 'yahoofinancestockprice-gpk-1995'\n",
    "region = 'eu-central-1'  "
   ]
  },
  {
   "cell_type": "code",
   "execution_count": null,
   "id": "6f4b761c",
   "metadata": {},
   "outputs": [],
   "source": [
    "try:\n",
    "    s3 = boto3.resource('s3', region_name=region)\n",
    "    s3.create_bucket(\n",
    "        Bucket=bucket_name,\n",
    "        CreateBucketConfiguration={'LocationConstraint': region}\n",
    "    )\n",
    "    print('S3 bucket created successfully')\n",
    "except Exception as e:\n",
    "    print('S3 error:', e)"
   ]
  },
  {
   "cell_type": "markdown",
   "id": "765f1777",
   "metadata": {},
   "source": [
    "# Create train and validation csv"
   ]
  },
  {
   "cell_type": "code",
   "execution_count": 3,
   "id": "22f45fd1",
   "metadata": {},
   "outputs": [
    {
     "name": "stderr",
     "output_type": "stream",
     "text": [
      "[*********************100%***********************]  1 of 1 completed\n"
     ]
    },
    {
     "data": {
      "text/html": [
       "<div>\n",
       "<style scoped>\n",
       "    .dataframe tbody tr th:only-of-type {\n",
       "        vertical-align: middle;\n",
       "    }\n",
       "\n",
       "    .dataframe tbody tr th {\n",
       "        vertical-align: top;\n",
       "    }\n",
       "\n",
       "    .dataframe thead tr th {\n",
       "        text-align: left;\n",
       "    }\n",
       "</style>\n",
       "<table border=\"1\" class=\"dataframe\">\n",
       "  <thead>\n",
       "    <tr>\n",
       "      <th>Price</th>\n",
       "      <th>Date</th>\n",
       "      <th>Adj Close</th>\n",
       "      <th>Close</th>\n",
       "      <th>High</th>\n",
       "      <th>Low</th>\n",
       "      <th>Open</th>\n",
       "      <th>Volume</th>\n",
       "    </tr>\n",
       "    <tr>\n",
       "      <th>Ticker</th>\n",
       "      <th></th>\n",
       "      <th>AAPL</th>\n",
       "      <th>AAPL</th>\n",
       "      <th>AAPL</th>\n",
       "      <th>AAPL</th>\n",
       "      <th>AAPL</th>\n",
       "      <th>AAPL</th>\n",
       "    </tr>\n",
       "  </thead>\n",
       "  <tbody>\n",
       "    <tr>\n",
       "      <th>0</th>\n",
       "      <td>2019-01-02 00:00:00+00:00</td>\n",
       "      <td>37.708607</td>\n",
       "      <td>39.480000</td>\n",
       "      <td>39.712502</td>\n",
       "      <td>38.557499</td>\n",
       "      <td>38.722500</td>\n",
       "      <td>148158800</td>\n",
       "    </tr>\n",
       "    <tr>\n",
       "      <th>1</th>\n",
       "      <td>2019-01-03 00:00:00+00:00</td>\n",
       "      <td>33.952549</td>\n",
       "      <td>35.547501</td>\n",
       "      <td>36.430000</td>\n",
       "      <td>35.500000</td>\n",
       "      <td>35.994999</td>\n",
       "      <td>365248800</td>\n",
       "    </tr>\n",
       "    <tr>\n",
       "      <th>2</th>\n",
       "      <td>2019-01-04 00:00:00+00:00</td>\n",
       "      <td>35.401951</td>\n",
       "      <td>37.064999</td>\n",
       "      <td>37.137501</td>\n",
       "      <td>35.950001</td>\n",
       "      <td>36.132500</td>\n",
       "      <td>234428400</td>\n",
       "    </tr>\n",
       "    <tr>\n",
       "      <th>3</th>\n",
       "      <td>2019-01-07 00:00:00+00:00</td>\n",
       "      <td>35.323151</td>\n",
       "      <td>36.982498</td>\n",
       "      <td>37.207500</td>\n",
       "      <td>36.474998</td>\n",
       "      <td>37.174999</td>\n",
       "      <td>219111200</td>\n",
       "    </tr>\n",
       "    <tr>\n",
       "      <th>4</th>\n",
       "      <td>2019-01-08 00:00:00+00:00</td>\n",
       "      <td>35.996529</td>\n",
       "      <td>37.687500</td>\n",
       "      <td>37.955002</td>\n",
       "      <td>37.130001</td>\n",
       "      <td>37.389999</td>\n",
       "      <td>164101200</td>\n",
       "    </tr>\n",
       "    <tr>\n",
       "      <th>...</th>\n",
       "      <td>...</td>\n",
       "      <td>...</td>\n",
       "      <td>...</td>\n",
       "      <td>...</td>\n",
       "      <td>...</td>\n",
       "      <td>...</td>\n",
       "      <td>...</td>\n",
       "    </tr>\n",
       "    <tr>\n",
       "      <th>1253</th>\n",
       "      <td>2023-12-22 00:00:00+00:00</td>\n",
       "      <td>192.656174</td>\n",
       "      <td>193.600006</td>\n",
       "      <td>195.410004</td>\n",
       "      <td>192.970001</td>\n",
       "      <td>195.179993</td>\n",
       "      <td>37122800</td>\n",
       "    </tr>\n",
       "    <tr>\n",
       "      <th>1254</th>\n",
       "      <td>2023-12-26 00:00:00+00:00</td>\n",
       "      <td>192.108856</td>\n",
       "      <td>193.050003</td>\n",
       "      <td>193.889999</td>\n",
       "      <td>192.830002</td>\n",
       "      <td>193.610001</td>\n",
       "      <td>28919300</td>\n",
       "    </tr>\n",
       "    <tr>\n",
       "      <th>1255</th>\n",
       "      <td>2023-12-27 00:00:00+00:00</td>\n",
       "      <td>192.208359</td>\n",
       "      <td>193.149994</td>\n",
       "      <td>193.500000</td>\n",
       "      <td>191.089996</td>\n",
       "      <td>192.490005</td>\n",
       "      <td>48087700</td>\n",
       "    </tr>\n",
       "    <tr>\n",
       "      <th>1256</th>\n",
       "      <td>2023-12-28 00:00:00+00:00</td>\n",
       "      <td>192.636276</td>\n",
       "      <td>193.580002</td>\n",
       "      <td>194.660004</td>\n",
       "      <td>193.169998</td>\n",
       "      <td>194.139999</td>\n",
       "      <td>34049900</td>\n",
       "    </tr>\n",
       "    <tr>\n",
       "      <th>1257</th>\n",
       "      <td>2023-12-29 00:00:00+00:00</td>\n",
       "      <td>191.591400</td>\n",
       "      <td>192.529999</td>\n",
       "      <td>194.399994</td>\n",
       "      <td>191.729996</td>\n",
       "      <td>193.899994</td>\n",
       "      <td>42628800</td>\n",
       "    </tr>\n",
       "  </tbody>\n",
       "</table>\n",
       "<p>1258 rows × 7 columns</p>\n",
       "</div>"
      ],
      "text/plain": [
       "Price                       Date   Adj Close       Close        High  \\\n",
       "Ticker                                  AAPL        AAPL        AAPL   \n",
       "0      2019-01-02 00:00:00+00:00   37.708607   39.480000   39.712502   \n",
       "1      2019-01-03 00:00:00+00:00   33.952549   35.547501   36.430000   \n",
       "2      2019-01-04 00:00:00+00:00   35.401951   37.064999   37.137501   \n",
       "3      2019-01-07 00:00:00+00:00   35.323151   36.982498   37.207500   \n",
       "4      2019-01-08 00:00:00+00:00   35.996529   37.687500   37.955002   \n",
       "...                          ...         ...         ...         ...   \n",
       "1253   2023-12-22 00:00:00+00:00  192.656174  193.600006  195.410004   \n",
       "1254   2023-12-26 00:00:00+00:00  192.108856  193.050003  193.889999   \n",
       "1255   2023-12-27 00:00:00+00:00  192.208359  193.149994  193.500000   \n",
       "1256   2023-12-28 00:00:00+00:00  192.636276  193.580002  194.660004   \n",
       "1257   2023-12-29 00:00:00+00:00  191.591400  192.529999  194.399994   \n",
       "\n",
       "Price          Low        Open     Volume  \n",
       "Ticker        AAPL        AAPL       AAPL  \n",
       "0        38.557499   38.722500  148158800  \n",
       "1        35.500000   35.994999  365248800  \n",
       "2        35.950001   36.132500  234428400  \n",
       "3        36.474998   37.174999  219111200  \n",
       "4        37.130001   37.389999  164101200  \n",
       "...            ...         ...        ...  \n",
       "1253    192.970001  195.179993   37122800  \n",
       "1254    192.830002  193.610001   28919300  \n",
       "1255    191.089996  192.490005   48087700  \n",
       "1256    193.169998  194.139999   34049900  \n",
       "1257    191.729996  193.899994   42628800  \n",
       "\n",
       "[1258 rows x 7 columns]"
      ]
     },
     "execution_count": 3,
     "metadata": {},
     "output_type": "execute_result"
    }
   ],
   "source": [
    "# !pip install yfinance\n",
    "import pandas as pd\n",
    "from datetime import datetime\n",
    "import yfinance as yf\n",
    "\n",
    "# initialize parameters\n",
    "start_date = datetime(2019, 1, 1)\n",
    "end_date = datetime(2024, 1, 1)\n",
    "\n",
    "# get the data\n",
    "df_data = yf.download('AAPL', start = start_date, end = end_date)\n",
    "\n",
    "df_data.reset_index(inplace=True)\n",
    "\n",
    "df_data"
   ]
  },
  {
   "cell_type": "markdown",
   "id": "e470d65b",
   "metadata": {},
   "source": [
    "## Extract, Load & Transform"
   ]
  },
  {
   "cell_type": "code",
   "execution_count": 4,
   "id": "5f7e94a6",
   "metadata": {},
   "outputs": [],
   "source": [
    "# df_data.columns\n",
    "df_data.drop(axis=1, columns=[('Adj Close', 'AAPL')], inplace=True)\n",
    "df_data.drop(axis=1, columns=[(     'Date',     '')], inplace=True)"
   ]
  },
  {
   "cell_type": "code",
   "execution_count": 5,
   "id": "0d62beba",
   "metadata": {},
   "outputs": [
    {
     "data": {
      "text/html": [
       "<div>\n",
       "<style scoped>\n",
       "    .dataframe tbody tr th:only-of-type {\n",
       "        vertical-align: middle;\n",
       "    }\n",
       "\n",
       "    .dataframe tbody tr th {\n",
       "        vertical-align: top;\n",
       "    }\n",
       "\n",
       "    .dataframe thead tr th {\n",
       "        text-align: left;\n",
       "    }\n",
       "</style>\n",
       "<table border=\"1\" class=\"dataframe\">\n",
       "  <thead>\n",
       "    <tr>\n",
       "      <th>Price</th>\n",
       "      <th>Open</th>\n",
       "      <th>High</th>\n",
       "      <th>Low</th>\n",
       "      <th>Close</th>\n",
       "      <th>Volume</th>\n",
       "    </tr>\n",
       "    <tr>\n",
       "      <th>Ticker</th>\n",
       "      <th>AAPL</th>\n",
       "      <th>AAPL</th>\n",
       "      <th>AAPL</th>\n",
       "      <th>AAPL</th>\n",
       "      <th>AAPL</th>\n",
       "    </tr>\n",
       "  </thead>\n",
       "  <tbody>\n",
       "    <tr>\n",
       "      <th>0</th>\n",
       "      <td>38.722500</td>\n",
       "      <td>39.712502</td>\n",
       "      <td>38.557499</td>\n",
       "      <td>39.480000</td>\n",
       "      <td>148158800</td>\n",
       "    </tr>\n",
       "    <tr>\n",
       "      <th>1</th>\n",
       "      <td>35.994999</td>\n",
       "      <td>36.430000</td>\n",
       "      <td>35.500000</td>\n",
       "      <td>35.547501</td>\n",
       "      <td>365248800</td>\n",
       "    </tr>\n",
       "    <tr>\n",
       "      <th>2</th>\n",
       "      <td>36.132500</td>\n",
       "      <td>37.137501</td>\n",
       "      <td>35.950001</td>\n",
       "      <td>37.064999</td>\n",
       "      <td>234428400</td>\n",
       "    </tr>\n",
       "    <tr>\n",
       "      <th>3</th>\n",
       "      <td>37.174999</td>\n",
       "      <td>37.207500</td>\n",
       "      <td>36.474998</td>\n",
       "      <td>36.982498</td>\n",
       "      <td>219111200</td>\n",
       "    </tr>\n",
       "    <tr>\n",
       "      <th>4</th>\n",
       "      <td>37.389999</td>\n",
       "      <td>37.955002</td>\n",
       "      <td>37.130001</td>\n",
       "      <td>37.687500</td>\n",
       "      <td>164101200</td>\n",
       "    </tr>\n",
       "    <tr>\n",
       "      <th>...</th>\n",
       "      <td>...</td>\n",
       "      <td>...</td>\n",
       "      <td>...</td>\n",
       "      <td>...</td>\n",
       "      <td>...</td>\n",
       "    </tr>\n",
       "    <tr>\n",
       "      <th>1253</th>\n",
       "      <td>195.179993</td>\n",
       "      <td>195.410004</td>\n",
       "      <td>192.970001</td>\n",
       "      <td>193.600006</td>\n",
       "      <td>37122800</td>\n",
       "    </tr>\n",
       "    <tr>\n",
       "      <th>1254</th>\n",
       "      <td>193.610001</td>\n",
       "      <td>193.889999</td>\n",
       "      <td>192.830002</td>\n",
       "      <td>193.050003</td>\n",
       "      <td>28919300</td>\n",
       "    </tr>\n",
       "    <tr>\n",
       "      <th>1255</th>\n",
       "      <td>192.490005</td>\n",
       "      <td>193.500000</td>\n",
       "      <td>191.089996</td>\n",
       "      <td>193.149994</td>\n",
       "      <td>48087700</td>\n",
       "    </tr>\n",
       "    <tr>\n",
       "      <th>1256</th>\n",
       "      <td>194.139999</td>\n",
       "      <td>194.660004</td>\n",
       "      <td>193.169998</td>\n",
       "      <td>193.580002</td>\n",
       "      <td>34049900</td>\n",
       "    </tr>\n",
       "    <tr>\n",
       "      <th>1257</th>\n",
       "      <td>193.899994</td>\n",
       "      <td>194.399994</td>\n",
       "      <td>191.729996</td>\n",
       "      <td>192.529999</td>\n",
       "      <td>42628800</td>\n",
       "    </tr>\n",
       "  </tbody>\n",
       "</table>\n",
       "<p>1258 rows × 5 columns</p>\n",
       "</div>"
      ],
      "text/plain": [
       "Price         Open        High         Low       Close     Volume\n",
       "Ticker        AAPL        AAPL        AAPL        AAPL       AAPL\n",
       "0        38.722500   39.712502   38.557499   39.480000  148158800\n",
       "1        35.994999   36.430000   35.500000   35.547501  365248800\n",
       "2        36.132500   37.137501   35.950001   37.064999  234428400\n",
       "3        37.174999   37.207500   36.474998   36.982498  219111200\n",
       "4        37.389999   37.955002   37.130001   37.687500  164101200\n",
       "...            ...         ...         ...         ...        ...\n",
       "1253    195.179993  195.410004  192.970001  193.600006   37122800\n",
       "1254    193.610001  193.889999  192.830002  193.050003   28919300\n",
       "1255    192.490005  193.500000  191.089996  193.149994   48087700\n",
       "1256    194.139999  194.660004  193.169998  193.580002   34049900\n",
       "1257    193.899994  194.399994  191.729996  192.529999   42628800\n",
       "\n",
       "[1258 rows x 5 columns]"
      ]
     },
     "execution_count": 5,
     "metadata": {},
     "output_type": "execute_result"
    }
   ],
   "source": [
    "# re-arrange some columns\n",
    "# df_data.columns\n",
    "col_order =[(  'Open', 'AAPL'), (  'High', 'AAPL'), (   'Low', 'AAPL'), ( 'Close', 'AAPL'),\n",
    "            ('Volume', 'AAPL')]\n",
    "df_data = df_data[col_order]\n",
    "df_data"
   ]
  },
  {
   "cell_type": "code",
   "execution_count": 6,
   "id": "d8d405f4",
   "metadata": {},
   "outputs": [
    {
     "data": {
      "text/html": [
       "<div>\n",
       "<style scoped>\n",
       "    .dataframe tbody tr th:only-of-type {\n",
       "        vertical-align: middle;\n",
       "    }\n",
       "\n",
       "    .dataframe tbody tr th {\n",
       "        vertical-align: top;\n",
       "    }\n",
       "\n",
       "    .dataframe thead tr th {\n",
       "        text-align: left;\n",
       "    }\n",
       "</style>\n",
       "<table border=\"1\" class=\"dataframe\">\n",
       "  <thead>\n",
       "    <tr>\n",
       "      <th>Price</th>\n",
       "      <th>Open</th>\n",
       "      <th>High</th>\n",
       "      <th>Low</th>\n",
       "      <th>Close</th>\n",
       "      <th>Volume</th>\n",
       "    </tr>\n",
       "    <tr>\n",
       "      <th>Ticker</th>\n",
       "      <th>AAPL</th>\n",
       "      <th>AAPL</th>\n",
       "      <th>AAPL</th>\n",
       "      <th>AAPL</th>\n",
       "      <th>AAPL</th>\n",
       "    </tr>\n",
       "  </thead>\n",
       "  <tbody>\n",
       "    <tr>\n",
       "      <th>0</th>\n",
       "      <td>38.722500</td>\n",
       "      <td>39.712502</td>\n",
       "      <td>38.557499</td>\n",
       "      <td>39.480000</td>\n",
       "      <td>148158800</td>\n",
       "    </tr>\n",
       "    <tr>\n",
       "      <th>1</th>\n",
       "      <td>35.994999</td>\n",
       "      <td>36.430000</td>\n",
       "      <td>35.500000</td>\n",
       "      <td>35.547501</td>\n",
       "      <td>365248800</td>\n",
       "    </tr>\n",
       "    <tr>\n",
       "      <th>2</th>\n",
       "      <td>36.132500</td>\n",
       "      <td>37.137501</td>\n",
       "      <td>35.950001</td>\n",
       "      <td>37.064999</td>\n",
       "      <td>234428400</td>\n",
       "    </tr>\n",
       "    <tr>\n",
       "      <th>3</th>\n",
       "      <td>37.174999</td>\n",
       "      <td>37.207500</td>\n",
       "      <td>36.474998</td>\n",
       "      <td>36.982498</td>\n",
       "      <td>219111200</td>\n",
       "    </tr>\n",
       "    <tr>\n",
       "      <th>4</th>\n",
       "      <td>37.389999</td>\n",
       "      <td>37.955002</td>\n",
       "      <td>37.130001</td>\n",
       "      <td>37.687500</td>\n",
       "      <td>164101200</td>\n",
       "    </tr>\n",
       "    <tr>\n",
       "      <th>...</th>\n",
       "      <td>...</td>\n",
       "      <td>...</td>\n",
       "      <td>...</td>\n",
       "      <td>...</td>\n",
       "      <td>...</td>\n",
       "    </tr>\n",
       "    <tr>\n",
       "      <th>1252</th>\n",
       "      <td>196.100006</td>\n",
       "      <td>197.080002</td>\n",
       "      <td>193.500000</td>\n",
       "      <td>194.679993</td>\n",
       "      <td>46482500</td>\n",
       "    </tr>\n",
       "    <tr>\n",
       "      <th>1253</th>\n",
       "      <td>195.179993</td>\n",
       "      <td>195.410004</td>\n",
       "      <td>192.970001</td>\n",
       "      <td>193.600006</td>\n",
       "      <td>37122800</td>\n",
       "    </tr>\n",
       "    <tr>\n",
       "      <th>1254</th>\n",
       "      <td>193.610001</td>\n",
       "      <td>193.889999</td>\n",
       "      <td>192.830002</td>\n",
       "      <td>193.050003</td>\n",
       "      <td>28919300</td>\n",
       "    </tr>\n",
       "    <tr>\n",
       "      <th>1255</th>\n",
       "      <td>192.490005</td>\n",
       "      <td>193.500000</td>\n",
       "      <td>191.089996</td>\n",
       "      <td>193.149994</td>\n",
       "      <td>48087700</td>\n",
       "    </tr>\n",
       "    <tr>\n",
       "      <th>1256</th>\n",
       "      <td>194.139999</td>\n",
       "      <td>194.660004</td>\n",
       "      <td>193.169998</td>\n",
       "      <td>193.580002</td>\n",
       "      <td>34049900</td>\n",
       "    </tr>\n",
       "  </tbody>\n",
       "</table>\n",
       "<p>1257 rows × 5 columns</p>\n",
       "</div>"
      ],
      "text/plain": [
       "Price         Open        High         Low       Close     Volume\n",
       "Ticker        AAPL        AAPL        AAPL        AAPL       AAPL\n",
       "0        38.722500   39.712502   38.557499   39.480000  148158800\n",
       "1        35.994999   36.430000   35.500000   35.547501  365248800\n",
       "2        36.132500   37.137501   35.950001   37.064999  234428400\n",
       "3        37.174999   37.207500   36.474998   36.982498  219111200\n",
       "4        37.389999   37.955002   37.130001   37.687500  164101200\n",
       "...            ...         ...         ...         ...        ...\n",
       "1252    196.100006  197.080002  193.500000  194.679993   46482500\n",
       "1253    195.179993  195.410004  192.970001  193.600006   37122800\n",
       "1254    193.610001  193.889999  192.830002  193.050003   28919300\n",
       "1255    192.490005  193.500000  191.089996  193.149994   48087700\n",
       "1256    194.139999  194.660004  193.169998  193.580002   34049900\n",
       "\n",
       "[1257 rows x 5 columns]"
      ]
     },
     "execution_count": 6,
     "metadata": {},
     "output_type": "execute_result"
    }
   ],
   "source": [
    "# take just the last row out\n",
    "df_data_features = df_data.iloc[:-1, :]\n",
    "df_data_features"
   ]
  },
  {
   "cell_type": "code",
   "execution_count": 7,
   "id": "ac361941",
   "metadata": {},
   "outputs": [
    {
     "data": {
      "text/plain": [
       "1        35.994999\n",
       "2        36.132500\n",
       "3        37.174999\n",
       "4        37.389999\n",
       "5        37.822498\n",
       "           ...    \n",
       "1253    195.179993\n",
       "1254    193.610001\n",
       "1255    192.490005\n",
       "1256    194.139999\n",
       "1257    193.899994\n",
       "Name: Targets, Length: 1257, dtype: float64"
      ]
     },
     "execution_count": 7,
     "metadata": {},
     "output_type": "execute_result"
    }
   ],
   "source": [
    "df_data_targets = df_data.iloc[1:, 0].rename(\"Targets\")\n",
    "df_data_targets"
   ]
  },
  {
   "cell_type": "code",
   "execution_count": 8,
   "id": "876187d4",
   "metadata": {},
   "outputs": [
    {
     "name": "stderr",
     "output_type": "stream",
     "text": [
      "/tmp/ipykernel_9203/2771549477.py:2: SettingWithCopyWarning: \n",
      "A value is trying to be set on a copy of a slice from a DataFrame.\n",
      "Try using .loc[row_indexer,col_indexer] = value instead\n",
      "\n",
      "See the caveats in the documentation: https://pandas.pydata.org/pandas-docs/stable/user_guide/indexing.html#returning-a-view-versus-a-copy\n",
      "  df_data_features['Target'] = list(df_data_targets)\n"
     ]
    },
    {
     "data": {
      "text/html": [
       "<div>\n",
       "<style scoped>\n",
       "    .dataframe tbody tr th:only-of-type {\n",
       "        vertical-align: middle;\n",
       "    }\n",
       "\n",
       "    .dataframe tbody tr th {\n",
       "        vertical-align: top;\n",
       "    }\n",
       "\n",
       "    .dataframe thead tr th {\n",
       "        text-align: left;\n",
       "    }\n",
       "</style>\n",
       "<table border=\"1\" class=\"dataframe\">\n",
       "  <thead>\n",
       "    <tr>\n",
       "      <th>Price</th>\n",
       "      <th>Target</th>\n",
       "      <th>Open</th>\n",
       "      <th>High</th>\n",
       "      <th>Low</th>\n",
       "      <th>Close</th>\n",
       "      <th>Volume</th>\n",
       "    </tr>\n",
       "    <tr>\n",
       "      <th>Ticker</th>\n",
       "      <th></th>\n",
       "      <th>AAPL</th>\n",
       "      <th>AAPL</th>\n",
       "      <th>AAPL</th>\n",
       "      <th>AAPL</th>\n",
       "      <th>AAPL</th>\n",
       "    </tr>\n",
       "  </thead>\n",
       "  <tbody>\n",
       "    <tr>\n",
       "      <th>0</th>\n",
       "      <td>35.994999</td>\n",
       "      <td>38.722500</td>\n",
       "      <td>39.712502</td>\n",
       "      <td>38.557499</td>\n",
       "      <td>39.480000</td>\n",
       "      <td>148158800</td>\n",
       "    </tr>\n",
       "    <tr>\n",
       "      <th>1</th>\n",
       "      <td>36.132500</td>\n",
       "      <td>35.994999</td>\n",
       "      <td>36.430000</td>\n",
       "      <td>35.500000</td>\n",
       "      <td>35.547501</td>\n",
       "      <td>365248800</td>\n",
       "    </tr>\n",
       "    <tr>\n",
       "      <th>2</th>\n",
       "      <td>37.174999</td>\n",
       "      <td>36.132500</td>\n",
       "      <td>37.137501</td>\n",
       "      <td>35.950001</td>\n",
       "      <td>37.064999</td>\n",
       "      <td>234428400</td>\n",
       "    </tr>\n",
       "    <tr>\n",
       "      <th>3</th>\n",
       "      <td>37.389999</td>\n",
       "      <td>37.174999</td>\n",
       "      <td>37.207500</td>\n",
       "      <td>36.474998</td>\n",
       "      <td>36.982498</td>\n",
       "      <td>219111200</td>\n",
       "    </tr>\n",
       "    <tr>\n",
       "      <th>4</th>\n",
       "      <td>37.822498</td>\n",
       "      <td>37.389999</td>\n",
       "      <td>37.955002</td>\n",
       "      <td>37.130001</td>\n",
       "      <td>37.687500</td>\n",
       "      <td>164101200</td>\n",
       "    </tr>\n",
       "    <tr>\n",
       "      <th>...</th>\n",
       "      <td>...</td>\n",
       "      <td>...</td>\n",
       "      <td>...</td>\n",
       "      <td>...</td>\n",
       "      <td>...</td>\n",
       "      <td>...</td>\n",
       "    </tr>\n",
       "    <tr>\n",
       "      <th>1252</th>\n",
       "      <td>195.179993</td>\n",
       "      <td>196.100006</td>\n",
       "      <td>197.080002</td>\n",
       "      <td>193.500000</td>\n",
       "      <td>194.679993</td>\n",
       "      <td>46482500</td>\n",
       "    </tr>\n",
       "    <tr>\n",
       "      <th>1253</th>\n",
       "      <td>193.610001</td>\n",
       "      <td>195.179993</td>\n",
       "      <td>195.410004</td>\n",
       "      <td>192.970001</td>\n",
       "      <td>193.600006</td>\n",
       "      <td>37122800</td>\n",
       "    </tr>\n",
       "    <tr>\n",
       "      <th>1254</th>\n",
       "      <td>192.490005</td>\n",
       "      <td>193.610001</td>\n",
       "      <td>193.889999</td>\n",
       "      <td>192.830002</td>\n",
       "      <td>193.050003</td>\n",
       "      <td>28919300</td>\n",
       "    </tr>\n",
       "    <tr>\n",
       "      <th>1255</th>\n",
       "      <td>194.139999</td>\n",
       "      <td>192.490005</td>\n",
       "      <td>193.500000</td>\n",
       "      <td>191.089996</td>\n",
       "      <td>193.149994</td>\n",
       "      <td>48087700</td>\n",
       "    </tr>\n",
       "    <tr>\n",
       "      <th>1256</th>\n",
       "      <td>193.899994</td>\n",
       "      <td>194.139999</td>\n",
       "      <td>194.660004</td>\n",
       "      <td>193.169998</td>\n",
       "      <td>193.580002</td>\n",
       "      <td>34049900</td>\n",
       "    </tr>\n",
       "  </tbody>\n",
       "</table>\n",
       "<p>1257 rows × 6 columns</p>\n",
       "</div>"
      ],
      "text/plain": [
       "Price       Target        Open        High         Low       Close     Volume\n",
       "Ticker                    AAPL        AAPL        AAPL        AAPL       AAPL\n",
       "0        35.994999   38.722500   39.712502   38.557499   39.480000  148158800\n",
       "1        36.132500   35.994999   36.430000   35.500000   35.547501  365248800\n",
       "2        37.174999   36.132500   37.137501   35.950001   37.064999  234428400\n",
       "3        37.389999   37.174999   37.207500   36.474998   36.982498  219111200\n",
       "4        37.822498   37.389999   37.955002   37.130001   37.687500  164101200\n",
       "...            ...         ...         ...         ...         ...        ...\n",
       "1252    195.179993  196.100006  197.080002  193.500000  194.679993   46482500\n",
       "1253    193.610001  195.179993  195.410004  192.970001  193.600006   37122800\n",
       "1254    192.490005  193.610001  193.889999  192.830002  193.050003   28919300\n",
       "1255    194.139999  192.490005  193.500000  191.089996  193.149994   48087700\n",
       "1256    193.899994  194.139999  194.660004  193.169998  193.580002   34049900\n",
       "\n",
       "[1257 rows x 6 columns]"
      ]
     },
     "execution_count": 8,
     "metadata": {},
     "output_type": "execute_result"
    }
   ],
   "source": [
    "# combine together to get final data\n",
    "df_data_features['Target'] = list(df_data_targets)\n",
    "\n",
    "first_column = df_data_features.pop('Target')\n",
    "df_data_features.insert(0, 'Target', first_column)\n",
    "\n",
    "df_data_final = df_data_features\n",
    "df_data_final"
   ]
  },
  {
   "cell_type": "markdown",
   "id": "5bf7b72b",
   "metadata": {},
   "source": [
    "## Train Test Split"
   ]
  },
  {
   "cell_type": "code",
   "execution_count": 9,
   "id": "cbd1ae80",
   "metadata": {},
   "outputs": [
    {
     "data": {
      "text/html": [
       "<div>\n",
       "<style scoped>\n",
       "    .dataframe tbody tr th:only-of-type {\n",
       "        vertical-align: middle;\n",
       "    }\n",
       "\n",
       "    .dataframe tbody tr th {\n",
       "        vertical-align: top;\n",
       "    }\n",
       "\n",
       "    .dataframe thead tr th {\n",
       "        text-align: left;\n",
       "    }\n",
       "</style>\n",
       "<table border=\"1\" class=\"dataframe\">\n",
       "  <thead>\n",
       "    <tr>\n",
       "      <th>Price</th>\n",
       "      <th>Target</th>\n",
       "      <th>Open</th>\n",
       "      <th>High</th>\n",
       "      <th>Low</th>\n",
       "      <th>Close</th>\n",
       "      <th>Volume</th>\n",
       "    </tr>\n",
       "    <tr>\n",
       "      <th>Ticker</th>\n",
       "      <th></th>\n",
       "      <th>AAPL</th>\n",
       "      <th>AAPL</th>\n",
       "      <th>AAPL</th>\n",
       "      <th>AAPL</th>\n",
       "      <th>AAPL</th>\n",
       "    </tr>\n",
       "  </thead>\n",
       "  <tbody>\n",
       "    <tr>\n",
       "      <th>870</th>\n",
       "      <td>132.080002</td>\n",
       "      <td>134.289993</td>\n",
       "      <td>137.339996</td>\n",
       "      <td>132.160004</td>\n",
       "      <td>135.429993</td>\n",
       "      <td>91533000</td>\n",
       "    </tr>\n",
       "    <tr>\n",
       "      <th>367</th>\n",
       "      <td>87.852501</td>\n",
       "      <td>88.787498</td>\n",
       "      <td>88.849998</td>\n",
       "      <td>87.772499</td>\n",
       "      <td>87.897499</td>\n",
       "      <td>114406400</td>\n",
       "    </tr>\n",
       "    <tr>\n",
       "      <th>875</th>\n",
       "      <td>139.899994</td>\n",
       "      <td>136.820007</td>\n",
       "      <td>138.589996</td>\n",
       "      <td>135.630005</td>\n",
       "      <td>138.270004</td>\n",
       "      <td>72433800</td>\n",
       "    </tr>\n",
       "    <tr>\n",
       "      <th>525</th>\n",
       "      <td>135.759995</td>\n",
       "      <td>135.729996</td>\n",
       "      <td>136.309998</td>\n",
       "      <td>134.610001</td>\n",
       "      <td>134.990005</td>\n",
       "      <td>83305400</td>\n",
       "    </tr>\n",
       "    <tr>\n",
       "      <th>1256</th>\n",
       "      <td>193.899994</td>\n",
       "      <td>194.139999</td>\n",
       "      <td>194.660004</td>\n",
       "      <td>193.169998</td>\n",
       "      <td>193.580002</td>\n",
       "      <td>34049900</td>\n",
       "    </tr>\n",
       "    <tr>\n",
       "      <th>...</th>\n",
       "      <td>...</td>\n",
       "      <td>...</td>\n",
       "      <td>...</td>\n",
       "      <td>...</td>\n",
       "      <td>...</td>\n",
       "      <td>...</td>\n",
       "    </tr>\n",
       "    <tr>\n",
       "      <th>1238</th>\n",
       "      <td>189.979996</td>\n",
       "      <td>190.330002</td>\n",
       "      <td>191.559998</td>\n",
       "      <td>189.229996</td>\n",
       "      <td>191.240005</td>\n",
       "      <td>45679300</td>\n",
       "    </tr>\n",
       "    <tr>\n",
       "      <th>1147</th>\n",
       "      <td>193.669998</td>\n",
       "      <td>193.330002</td>\n",
       "      <td>194.440002</td>\n",
       "      <td>192.919998</td>\n",
       "      <td>193.619995</td>\n",
       "      <td>37283200</td>\n",
       "    </tr>\n",
       "    <tr>\n",
       "      <th>106</th>\n",
       "      <td>45.770000</td>\n",
       "      <td>46.070000</td>\n",
       "      <td>46.247501</td>\n",
       "      <td>45.285000</td>\n",
       "      <td>45.634998</td>\n",
       "      <td>119093600</td>\n",
       "    </tr>\n",
       "    <tr>\n",
       "      <th>1041</th>\n",
       "      <td>148.869995</td>\n",
       "      <td>150.199997</td>\n",
       "      <td>151.300003</td>\n",
       "      <td>148.410004</td>\n",
       "      <td>148.479996</td>\n",
       "      <td>58867200</td>\n",
       "    </tr>\n",
       "    <tr>\n",
       "      <th>1122</th>\n",
       "      <td>184.410004</td>\n",
       "      <td>186.729996</td>\n",
       "      <td>186.990005</td>\n",
       "      <td>184.270004</td>\n",
       "      <td>184.919998</td>\n",
       "      <td>101235600</td>\n",
       "    </tr>\n",
       "  </tbody>\n",
       "</table>\n",
       "<p>1257 rows × 6 columns</p>\n",
       "</div>"
      ],
      "text/plain": [
       "Price       Target        Open        High         Low       Close     Volume\n",
       "Ticker                    AAPL        AAPL        AAPL        AAPL       AAPL\n",
       "870     132.080002  134.289993  137.339996  132.160004  135.429993   91533000\n",
       "367      87.852501   88.787498   88.849998   87.772499   87.897499  114406400\n",
       "875     139.899994  136.820007  138.589996  135.630005  138.270004   72433800\n",
       "525     135.759995  135.729996  136.309998  134.610001  134.990005   83305400\n",
       "1256    193.899994  194.139999  194.660004  193.169998  193.580002   34049900\n",
       "...            ...         ...         ...         ...         ...        ...\n",
       "1238    189.979996  190.330002  191.559998  189.229996  191.240005   45679300\n",
       "1147    193.669998  193.330002  194.440002  192.919998  193.619995   37283200\n",
       "106      45.770000   46.070000   46.247501   45.285000   45.634998  119093600\n",
       "1041    148.869995  150.199997  151.300003  148.410004  148.479996   58867200\n",
       "1122    184.410004  186.729996  186.990005  184.270004  184.919998  101235600\n",
       "\n",
       "[1257 rows x 6 columns]"
      ]
     },
     "execution_count": 9,
     "metadata": {},
     "output_type": "execute_result"
    }
   ],
   "source": [
    "import numpy as np\n",
    "\n",
    "df_randomized = df_data_final.sample(frac = 1, random_state = 123)\n",
    "df_randomized"
   ]
  },
  {
   "cell_type": "code",
   "execution_count": 10,
   "id": "00342ff1",
   "metadata": {},
   "outputs": [
    {
     "name": "stdout",
     "output_type": "stream",
     "text": [
      "(1005, 6) (252, 6)\n"
     ]
    }
   ],
   "source": [
    "train_data, test_data = np.split(df_randomized, [int(0.8*len(df_randomized))])\n",
    "\n",
    "print(train_data.shape, test_data.shape)"
   ]
  },
  {
   "cell_type": "markdown",
   "id": "9d6f16b1",
   "metadata": {},
   "source": [
    "## Set a path and upload dataset to S3 bucket"
   ]
  },
  {
   "cell_type": "code",
   "execution_count": 12,
   "id": "00a113c1",
   "metadata": {},
   "outputs": [
    {
     "name": "stdout",
     "output_type": "stream",
     "text": [
      "s3://yahoofinancestockprice-gpk-1995/xgboost-as-a-built-in-algo/train/train.csv\n",
      "s3://yahoofinancestockprice-gpk-1995/xgboost-as-a-built-in-algo/test/test.csv\n"
     ]
    }
   ],
   "source": [
    "import os\n",
    "\n",
    "prefix = 'xgboost-as-a-built-in-algo'\n",
    "\n",
    "train_csv_path = 's3://{}/{}/{}/{}'.format(bucket_name, prefix, 'train', 'train.csv')\n",
    "test_csv_path = 's3://{}/{}/{}/{}'.format(bucket_name, prefix, 'test', 'test.csv')\n",
    "\n",
    "print(train_csv_path)\n",
    "print(test_csv_path)"
   ]
  },
  {
   "cell_type": "code",
   "execution_count": 44,
   "id": "750dbe45",
   "metadata": {},
   "outputs": [
    {
     "name": "stderr",
     "output_type": "stream",
     "text": [
      "/home/ec2-user/anaconda3/envs/python3/lib/python3.10/site-packages/fsspec/registry.py:279: UserWarning: Your installed version of s3fs is very old and known to cause\n",
      "severe performance issues, see also https://github.com/dask/dask/issues/10276\n",
      "\n",
      "To fix, you should specify a lower version bound on s3fs, or\n",
      "update the current installation.\n",
      "\n",
      "  warnings.warn(s3_msg)\n"
     ]
    }
   ],
   "source": [
    "train_data.to_csv(train_csv_path, index = False, header=False)\n",
    "test_data.to_csv(test_csv_path, index = False, header=False)"
   ]
  },
  {
   "cell_type": "code",
   "execution_count": null,
   "id": "e3078648",
   "metadata": {},
   "outputs": [],
   "source": []
  },
  {
   "cell_type": "markdown",
   "id": "d53c797c",
   "metadata": {},
   "source": [
    "# Build XGBoost Model"
   ]
  },
  {
   "cell_type": "markdown",
   "id": "6aa23198",
   "metadata": {},
   "source": [
    "Use either XGBoost as a framework or a built-in algorithm\n",
    "I will use built-in algorithm."
   ]
  },
  {
   "cell_type": "code",
   "execution_count": 13,
   "id": "e3a75276",
   "metadata": {},
   "outputs": [
    {
     "name": "stdout",
     "output_type": "stream",
     "text": [
      "sagemaker.config INFO - Not applying SDK defaults from location: /etc/xdg/sagemaker/config.yaml\n",
      "sagemaker.config INFO - Not applying SDK defaults from location: /home/ec2-user/.config/sagemaker/config.yaml\n"
     ]
    }
   ],
   "source": [
    "import sagemaker\n",
    "\n",
    "# import container image through image_uris\n",
    "from sagemaker import image_uris\n",
    "\n",
    "# kick-start a session for a training\n",
    "from sagemaker.session import Session\n",
    "\n",
    "# prepare training inputs for the XGBoost algorithm\n",
    "from sagemaker.inputs import TrainingInput"
   ]
  },
  {
   "cell_type": "markdown",
   "id": "a004f21f",
   "metadata": {},
   "source": [
    "## Find an XGBoost image URI and build an XGBoost container"
   ]
  },
  {
   "cell_type": "code",
   "execution_count": 14,
   "id": "30a66d89",
   "metadata": {},
   "outputs": [
    {
     "data": {
      "text/plain": [
       "'492215442770.dkr.ecr.eu-central-1.amazonaws.com/sagemaker-xgboost:1.2-2'"
      ]
     },
     "metadata": {},
     "output_type": "display_data"
    }
   ],
   "source": [
    "# version 1.2-2 (the last argument)\n",
    "xgboost_container = image_uris.retrieve(\"xgboost\", boto3.Session().region_name, \"1.2-2\")\n",
    "\n",
    "display(xgboost_container)"
   ]
  },
  {
   "cell_type": "markdown",
   "id": "798c738e",
   "metadata": {},
   "source": [
    "## Initialize hyperparameters"
   ]
  },
  {
   "cell_type": "code",
   "execution_count": 15,
   "id": "ee5486cc",
   "metadata": {},
   "outputs": [],
   "source": [
    "hyperparameters = {\"max_depth\":\"5\",\n",
    "                  \"eta\":\"0.2\",\n",
    "                  \"gamma\":\"4\",\n",
    "                  \"min_child_weight\":\"6\",\n",
    "                  \"subsample\":\"0.7\",\n",
    "                  \"objective\":\"reg:squarederror\",\n",
    "                  \"early_stopping_rounds\":10,\n",
    "                  \"num_round\":1000}"
   ]
  },
  {
   "cell_type": "markdown",
   "id": "c68a3521",
   "metadata": {},
   "source": [
    "## Set an output path where the trained model will be saved"
   ]
  },
  {
   "cell_type": "code",
   "execution_count": 16,
   "id": "bb4b9ab9",
   "metadata": {},
   "outputs": [
    {
     "name": "stdout",
     "output_type": "stream",
     "text": [
      "s3://yahoofinancestockprice-gpk-1995/xgboost-as-a-built-in-algo/output/\n"
     ]
    }
   ],
   "source": [
    "# first {} is bucket name\n",
    "# second {} is prefix\n",
    "# output folder\n",
    "output_path = 's3://{}/{}/{}/'.format(bucket_name, prefix, 'output')\n",
    "\n",
    "print(output_path)"
   ]
  },
  {
   "cell_type": "markdown",
   "id": "b378692f",
   "metadata": {},
   "source": [
    "## Construct a SageMaker estimator that calls the xgboost-container"
   ]
  },
  {
   "cell_type": "code",
   "execution_count": 17,
   "id": "55bd4c04",
   "metadata": {},
   "outputs": [],
   "source": [
    "estimator = sagemaker.estimator.Estimator(image_uri = xgboost_container,\n",
    "                                         hyperparameters = hyperparameters,\n",
    "                                         role = sagemaker.get_execution_role(),\n",
    "                                         instance_count = 1,\n",
    "                                         instance_type = 'ml.m4.xlarge',\n",
    "                                         volume_size = 5, # 5 GB\n",
    "                                         output_path = output_path,\n",
    "                                         use_spot_instances = True,\n",
    "                                         max_run = 300,\n",
    "                                         max_wait = 600)"
   ]
  },
  {
   "cell_type": "markdown",
   "id": "d6650777",
   "metadata": {},
   "source": [
    "## Define the data types and paths to the training and validation datasets"
   ]
  },
  {
   "cell_type": "code",
   "execution_count": 18,
   "id": "8ba730b8",
   "metadata": {},
   "outputs": [],
   "source": [
    "content_type = \"csv\"\n",
    "train_input = TrainingInput(\"s3://{}/{}/{}/\".format(bucket_name, prefix, 'train'), content_type = content_type)\n",
    "test_input = TrainingInput(\"s3://{}/{}/{}\".format(bucket_name, prefix, 'test'), content_type = content_type)\n"
   ]
  },
  {
   "cell_type": "markdown",
   "id": "89c02dc9",
   "metadata": {},
   "source": [
    "## Execute the XGBoost training job"
   ]
  },
  {
   "cell_type": "code",
   "execution_count": 19,
   "id": "02b418df",
   "metadata": {},
   "outputs": [
    {
     "name": "stderr",
     "output_type": "stream",
     "text": [
      "INFO:sagemaker:Creating training-job with name: sagemaker-xgboost-2024-11-12-11-42-07-500\n"
     ]
    },
    {
     "name": "stdout",
     "output_type": "stream",
     "text": [
      "2024-11-12 11:42:08 Starting - Starting the training job...\n",
      "2024-11-12 11:42:33 Starting - Preparing the instances for training...\n",
      "2024-11-12 11:43:07 Downloading - Downloading input data...\n",
      "2024-11-12 11:43:32 Downloading - Downloading the training image......\n",
      "2024-11-12 11:44:43 Training - Training image download completed. Training in progress...\u001b[34m[2024-11-12 11:44:54.765 ip-10-0-194-76.eu-central-1.compute.internal:7 INFO utils.py:27] RULE_JOB_STOP_SIGNAL_FILENAME: None\u001b[0m\n",
      "\u001b[34m[2024-11-12:11:44:54:INFO] Imported framework sagemaker_xgboost_container.training\u001b[0m\n",
      "\u001b[34m[2024-11-12:11:44:54:INFO] Failed to parse hyperparameter objective value reg:squarederror to Json.\u001b[0m\n",
      "\u001b[34mReturning the value itself\u001b[0m\n",
      "\u001b[34m[2024-11-12:11:44:54:INFO] No GPUs detected (normal if no gpus installed)\u001b[0m\n",
      "\u001b[34m[2024-11-12:11:44:54:INFO] Running XGBoost Sagemaker in algorithm mode\u001b[0m\n",
      "\u001b[34m[2024-11-12:11:44:54:INFO] Determined delimiter of CSV input is ','\u001b[0m\n",
      "\u001b[34m[2024-11-12:11:44:54:INFO] Determined delimiter of CSV input is ','\u001b[0m\n",
      "\u001b[34m[2024-11-12:11:44:54:INFO] Determined delimiter of CSV input is ','\u001b[0m\n",
      "\u001b[34m[2024-11-12:11:44:54:INFO] Determined delimiter of CSV input is ','\u001b[0m\n",
      "\u001b[34m[2024-11-12:11:44:54:INFO] Single node training.\u001b[0m\n",
      "\u001b[34m[2024-11-12:11:44:54:INFO] Train matrix has 1005 rows and 5 columns\u001b[0m\n",
      "\u001b[34m[2024-11-12:11:44:54:INFO] Validation matrix has 252 rows\u001b[0m\n",
      "\u001b[34m[2024-11-12 11:44:54.849 ip-10-0-194-76.eu-central-1.compute.internal:7 INFO json_config.py:91] Creating hook from json_config at /opt/ml/input/config/debughookconfig.json.\u001b[0m\n",
      "\u001b[34m[2024-11-12 11:44:54.850 ip-10-0-194-76.eu-central-1.compute.internal:7 INFO hook.py:201] tensorboard_dir has not been set for the hook. SMDebug will not be exporting tensorboard summaries.\u001b[0m\n",
      "\u001b[34m[2024-11-12 11:44:54.850 ip-10-0-194-76.eu-central-1.compute.internal:7 INFO profiler_config_parser.py:102] User has disabled profiler.\u001b[0m\n",
      "\u001b[34m[2024-11-12 11:44:54.851 ip-10-0-194-76.eu-central-1.compute.internal:7 INFO hook.py:255] Saving to /opt/ml/output/tensors\u001b[0m\n",
      "\u001b[34m[2024-11-12 11:44:54.851 ip-10-0-194-76.eu-central-1.compute.internal:7 INFO state_store.py:77] The checkpoint config file /opt/ml/input/config/checkpointconfig.json does not exist.\u001b[0m\n",
      "\u001b[34m[2024-11-12:11:44:54:INFO] Debug hook created from config\u001b[0m\n",
      "\u001b[34m[0]#011train-rmse:105.13222#011validation-rmse:104.79514\u001b[0m\n",
      "\u001b[34m[2024-11-12 11:44:54.854 ip-10-0-194-76.eu-central-1.compute.internal:7 INFO hook.py:423] Monitoring the collections: metrics\u001b[0m\n",
      "\u001b[34m[2024-11-12 11:44:54.857 ip-10-0-194-76.eu-central-1.compute.internal:7 INFO hook.py:486] Hook is writing from the hook with pid: 7\u001b[0m\n",
      "\u001b[34m[1]#011train-rmse:84.40489#011validation-rmse:84.03572\u001b[0m\n",
      "\u001b[34m[2]#011train-rmse:67.74852#011validation-rmse:67.49448\u001b[0m\n",
      "\u001b[34m[3]#011train-rmse:54.39024#011validation-rmse:54.20522\u001b[0m\n",
      "\u001b[34m[4]#011train-rmse:43.64976#011validation-rmse:43.41962\u001b[0m\n",
      "\u001b[34m[5]#011train-rmse:35.06691#011validation-rmse:34.83998\u001b[0m\n",
      "\u001b[34m[6]#011train-rmse:28.15342#011validation-rmse:27.94789\u001b[0m\n",
      "\u001b[34m[7]#011train-rmse:22.61271#011validation-rmse:22.40154\u001b[0m\n",
      "\u001b[34m[8]#011train-rmse:18.16928#011validation-rmse:17.97780\u001b[0m\n",
      "\u001b[34m[9]#011train-rmse:14.60773#011validation-rmse:14.44452\u001b[0m\n",
      "\u001b[34m[10]#011train-rmse:11.76267#011validation-rmse:11.60266\u001b[0m\n",
      "\u001b[34m[11]#011train-rmse:9.50736#011validation-rmse:9.35708\u001b[0m\n",
      "\u001b[34m[12]#011train-rmse:7.66916#011validation-rmse:7.52950\u001b[0m\n",
      "\u001b[34m[13]#011train-rmse:6.22732#011validation-rmse:6.11687\u001b[0m\n",
      "\u001b[34m[14]#011train-rmse:5.06582#011validation-rmse:4.98354\u001b[0m\n",
      "\u001b[34m[15]#011train-rmse:4.16623#011validation-rmse:4.11998\u001b[0m\n",
      "\u001b[34m[16]#011train-rmse:3.44900#011validation-rmse:3.43871\u001b[0m\n",
      "\u001b[34m[17]#011train-rmse:2.88069#011validation-rmse:2.93224\u001b[0m\n",
      "\u001b[34m[18]#011train-rmse:2.44890#011validation-rmse:2.55171\u001b[0m\n",
      "\u001b[34m[19]#011train-rmse:2.12212#011validation-rmse:2.27789\u001b[0m\n",
      "\u001b[34m[20]#011train-rmse:1.88350#011validation-rmse:2.09809\u001b[0m\n",
      "\u001b[34m[21]#011train-rmse:1.69120#011validation-rmse:1.95411\u001b[0m\n",
      "\u001b[34m[22]#011train-rmse:1.55623#011validation-rmse:1.86357\u001b[0m\n",
      "\u001b[34m[23]#011train-rmse:1.45575#011validation-rmse:1.79588\u001b[0m\n",
      "\u001b[34m[24]#011train-rmse:1.38807#011validation-rmse:1.75702\u001b[0m\n",
      "\u001b[34m[25]#011train-rmse:1.33322#011validation-rmse:1.74499\u001b[0m\n",
      "\u001b[34m[26]#011train-rmse:1.29483#011validation-rmse:1.73375\u001b[0m\n",
      "\u001b[34m[27]#011train-rmse:1.26134#011validation-rmse:1.73319\u001b[0m\n",
      "\u001b[34m[28]#011train-rmse:1.23628#011validation-rmse:1.72200\u001b[0m\n",
      "\u001b[34m[29]#011train-rmse:1.21265#011validation-rmse:1.71102\u001b[0m\n",
      "\u001b[34m[30]#011train-rmse:1.19968#011validation-rmse:1.71014\u001b[0m\n",
      "\u001b[34m[31]#011train-rmse:1.18673#011validation-rmse:1.71337\u001b[0m\n",
      "\u001b[34m[32]#011train-rmse:1.17324#011validation-rmse:1.72158\u001b[0m\n",
      "\u001b[34m[33]#011train-rmse:1.15957#011validation-rmse:1.72656\u001b[0m\n",
      "\u001b[34m[34]#011train-rmse:1.15281#011validation-rmse:1.73031\u001b[0m\n",
      "\u001b[34m[35]#011train-rmse:1.14493#011validation-rmse:1.73777\u001b[0m\n",
      "\u001b[34m[36]#011train-rmse:1.14145#011validation-rmse:1.73914\u001b[0m\n",
      "\u001b[34m[37]#011train-rmse:1.13522#011validation-rmse:1.74025\u001b[0m\n",
      "\u001b[34m[38]#011train-rmse:1.12414#011validation-rmse:1.74163\u001b[0m\n",
      "\u001b[34m[39]#011train-rmse:1.11954#011validation-rmse:1.74569\u001b[0m\n",
      "\u001b[34m[40]#011train-rmse:1.11004#011validation-rmse:1.75548\u001b[0m\n",
      "\n",
      "2024-11-12 11:44:59 Uploading - Uploading generated training model\n",
      "2024-11-12 11:45:17 Completed - Training job completed\n",
      "Training seconds: 130\n",
      "Billable seconds: 60\n",
      "Managed Spot Training savings: 53.8%\n"
     ]
    }
   ],
   "source": [
    "estimator.fit({'train': train_input, 'validation': test_input})"
   ]
  },
  {
   "cell_type": "markdown",
   "id": "574ce783",
   "metadata": {},
   "source": [
    "## Deploy trained xgb model as Endpoints\n",
    "\n",
    "1. Environment:\n",
    "> Within SageMaker - Serialization by User<br>\n",
    "> **Outside SageMaker - Serialization by Endpoint**\n",
    "  \n",
    "2. Method to invoke the endpoint\n",
    "> **API - Single Prediction**<br>\n",
    "> s3 Bucket - Batch Prediction\n",
    "\n",
    "3. Data type based on method\n",
    "> **API - Json**<br>\n",
    ">s3 Bucket - CSV"
   ]
  },
  {
   "cell_type": "code",
   "execution_count": 20,
   "id": "1434ce78",
   "metadata": {},
   "outputs": [
    {
     "name": "stderr",
     "output_type": "stream",
     "text": [
      "INFO:sagemaker:Creating model with name: sagemaker-xgboost-2024-11-12-11-48-01-899\n",
      "INFO:sagemaker:Creating endpoint-config with name sagemaker-xgboost-2024-11-12-11-48-01-899\n",
      "INFO:sagemaker:Creating endpoint with name sagemaker-xgboost-2024-11-12-11-48-01-899\n"
     ]
    },
    {
     "name": "stdout",
     "output_type": "stream",
     "text": [
      "------!"
     ]
    }
   ],
   "source": [
    "from sagemaker.serializers import CSVSerializer\n",
    "\n",
    "xgb_predictor = estimator.deploy(initial_instance_count=1, instance_type='ml.m4.xlarge', serializer=CSVSerializer())"
   ]
  },
  {
   "cell_type": "code",
   "execution_count": 21,
   "id": "3ade39fb",
   "metadata": {},
   "outputs": [
    {
     "data": {
      "text/plain": [
       "'sagemaker-xgboost-2024-11-12-11-48-01-899'"
      ]
     },
     "execution_count": 21,
     "metadata": {},
     "output_type": "execute_result"
    }
   ],
   "source": [
    "xgb_predictor.endpoint_name"
   ]
  },
  {
   "cell_type": "markdown",
   "id": "0dedcce9",
   "metadata": {},
   "source": [
    "## Make prediction with the use of Endpoints"
   ]
  },
  {
   "cell_type": "code",
   "execution_count": 22,
   "id": "e168c47a",
   "metadata": {},
   "outputs": [
    {
     "name": "stderr",
     "output_type": "stream",
     "text": [
      "[*********************100%***********************]  1 of 1 completed\n"
     ]
    },
    {
     "data": {
      "text/html": [
       "<div>\n",
       "<style scoped>\n",
       "    .dataframe tbody tr th:only-of-type {\n",
       "        vertical-align: middle;\n",
       "    }\n",
       "\n",
       "    .dataframe tbody tr th {\n",
       "        vertical-align: top;\n",
       "    }\n",
       "\n",
       "    .dataframe thead tr th {\n",
       "        text-align: left;\n",
       "    }\n",
       "</style>\n",
       "<table border=\"1\" class=\"dataframe\">\n",
       "  <thead>\n",
       "    <tr>\n",
       "      <th>Price</th>\n",
       "      <th>Date</th>\n",
       "      <th>Adj Close</th>\n",
       "      <th>Close</th>\n",
       "      <th>High</th>\n",
       "      <th>Low</th>\n",
       "      <th>Open</th>\n",
       "      <th>Volume</th>\n",
       "    </tr>\n",
       "    <tr>\n",
       "      <th>Ticker</th>\n",
       "      <th></th>\n",
       "      <th>AAPL</th>\n",
       "      <th>AAPL</th>\n",
       "      <th>AAPL</th>\n",
       "      <th>AAPL</th>\n",
       "      <th>AAPL</th>\n",
       "      <th>AAPL</th>\n",
       "    </tr>\n",
       "  </thead>\n",
       "  <tbody>\n",
       "    <tr>\n",
       "      <th>0</th>\n",
       "      <td>2024-01-04 00:00:00+00:00</td>\n",
       "      <td>181.023178</td>\n",
       "      <td>181.910004</td>\n",
       "      <td>183.089996</td>\n",
       "      <td>180.880005</td>\n",
       "      <td>182.149994</td>\n",
       "      <td>71983600</td>\n",
       "    </tr>\n",
       "  </tbody>\n",
       "</table>\n",
       "</div>"
      ],
      "text/plain": [
       "Price                       Date   Adj Close       Close        High  \\\n",
       "Ticker                                  AAPL        AAPL        AAPL   \n",
       "0      2024-01-04 00:00:00+00:00  181.023178  181.910004  183.089996   \n",
       "\n",
       "Price          Low        Open    Volume  \n",
       "Ticker        AAPL        AAPL      AAPL  \n",
       "0       180.880005  182.149994  71983600  "
      ]
     },
     "execution_count": 22,
     "metadata": {},
     "output_type": "execute_result"
    }
   ],
   "source": [
    "# initialize parameters\n",
    "start_date = datetime(2024, 1, 4)\n",
    "end_date = datetime(2024, 1, 5)\n",
    "\n",
    "# get the data\n",
    "df_data = yf.download('AAPL', start = start_date, end = end_date)\n",
    "df_data.reset_index(inplace=True)\n",
    "df_data"
   ]
  },
  {
   "cell_type": "code",
   "execution_count": 23,
   "id": "a032504a",
   "metadata": {},
   "outputs": [
    {
     "data": {
      "text/html": [
       "<div>\n",
       "<style scoped>\n",
       "    .dataframe tbody tr th:only-of-type {\n",
       "        vertical-align: middle;\n",
       "    }\n",
       "\n",
       "    .dataframe tbody tr th {\n",
       "        vertical-align: top;\n",
       "    }\n",
       "\n",
       "    .dataframe thead tr th {\n",
       "        text-align: left;\n",
       "    }\n",
       "</style>\n",
       "<table border=\"1\" class=\"dataframe\">\n",
       "  <thead>\n",
       "    <tr>\n",
       "      <th>Price</th>\n",
       "      <th>Open</th>\n",
       "      <th>High</th>\n",
       "      <th>Low</th>\n",
       "      <th>Close</th>\n",
       "      <th>Volume</th>\n",
       "    </tr>\n",
       "    <tr>\n",
       "      <th>Ticker</th>\n",
       "      <th>AAPL</th>\n",
       "      <th>AAPL</th>\n",
       "      <th>AAPL</th>\n",
       "      <th>AAPL</th>\n",
       "      <th>AAPL</th>\n",
       "    </tr>\n",
       "  </thead>\n",
       "  <tbody>\n",
       "    <tr>\n",
       "      <th>0</th>\n",
       "      <td>182.149994</td>\n",
       "      <td>183.089996</td>\n",
       "      <td>180.880005</td>\n",
       "      <td>181.910004</td>\n",
       "      <td>71983600</td>\n",
       "    </tr>\n",
       "  </tbody>\n",
       "</table>\n",
       "</div>"
      ],
      "text/plain": [
       "Price         Open        High         Low       Close    Volume\n",
       "Ticker        AAPL        AAPL        AAPL        AAPL      AAPL\n",
       "0       182.149994  183.089996  180.880005  181.910004  71983600"
      ]
     },
     "execution_count": 23,
     "metadata": {},
     "output_type": "execute_result"
    }
   ],
   "source": [
    "# df_data.columns\n",
    "df_data.drop(axis=1, columns=[('Adj Close', 'AAPL')], inplace=True)\n",
    "df_data.drop(axis=1, columns=[(     'Date',     '')], inplace=True)\n",
    "\n",
    "# re-arrange some columns\n",
    "# df_data.columns\n",
    "col_order =[(  'Open', 'AAPL'), (  'High', 'AAPL'), (   'Low', 'AAPL'), ( 'Close', 'AAPL'),\n",
    "            ('Volume', 'AAPL')]\n",
    "df_data = df_data[col_order]\n",
    "df_data"
   ]
  },
  {
   "cell_type": "code",
   "execution_count": 24,
   "id": "33d2efe7",
   "metadata": {},
   "outputs": [
    {
     "data": {
      "text/plain": [
       "array([[1.82149994e+02, 1.83089996e+02, 1.80880005e+02, 1.81910004e+02,\n",
       "        7.19836000e+07]])"
      ]
     },
     "execution_count": 24,
     "metadata": {},
     "output_type": "execute_result"
    }
   ],
   "source": [
    "data_features_array = df_data.values\n",
    "data_features_array"
   ]
  },
  {
   "cell_type": "markdown",
   "id": "a58d70e1",
   "metadata": {},
   "source": [
    "## Serialize data "
   ]
  },
  {
   "cell_type": "markdown",
   "id": "b181b257",
   "metadata": {},
   "source": [
    "## Inference - Serialized Input by SageMaker Function"
   ]
  },
  {
   "cell_type": "code",
   "execution_count": 26,
   "id": "72790a8b",
   "metadata": {},
   "outputs": [
    {
     "name": "stdout",
     "output_type": "stream",
     "text": [
      "<class 'str'> 180.4252471923828\n",
      "\n"
     ]
    }
   ],
   "source": [
    "Y_pred_Fcn = xgb_predictor.predict(data_features_array).decode('utf-8')\n",
    "print(type(Y_pred_Fcn), Y_pred_Fcn)"
   ]
  },
  {
   "cell_type": "code",
   "execution_count": 28,
   "id": "27e47f9a",
   "metadata": {},
   "outputs": [
    {
     "name": "stdout",
     "output_type": "stream",
     "text": [
      "<class 'str'> 182.149994,183.089996,180.880005,181.910004,71983600.0\n"
     ]
    },
    {
     "data": {
      "text/plain": [
       "'180.4252471923828\\n'"
      ]
     },
     "execution_count": 28,
     "metadata": {},
     "output_type": "execute_result"
    }
   ],
   "source": [
    "from sagemaker.serializers import CSVSerializer\n",
    "\n",
    "Serialized_Input_Fcn = CSVSerializer().serialize([[1.82149994e+02, 1.83089996e+02, 1.80880005e+02, 1.81910004e+02, \n",
    "                                                   7.19836000e+07]])\n",
    "print(type(Serialized_Input_Fcn), Serialized_Input_Fcn)\n",
    "\n",
    "Y_pred_Fcn = xgb_predictor.predict(Serialized_Input_Fcn).decode('utf-8')\n",
    "Y_pred_Fcn"
   ]
  },
  {
   "cell_type": "markdown",
   "id": "1caa7a42",
   "metadata": {},
   "source": [
    "## Inference - Serialized Input by built-in Function (Lambda function friendly)"
   ]
  },
  {
   "cell_type": "code",
   "execution_count": 30,
   "id": "bd6824a9",
   "metadata": {},
   "outputs": [
    {
     "name": "stdout",
     "output_type": "stream",
     "text": [
      "182.149994,183.089996,180.880005,181.910004,71983600.0 <class 'str'>\n"
     ]
    },
    {
     "data": {
      "text/plain": [
       "'180.4252471923828\\n'"
      ]
     },
     "execution_count": 30,
     "metadata": {},
     "output_type": "execute_result"
    }
   ],
   "source": [
    "# 2nd and 3rd row are just to show the advantage of list of list. Only Input[0] is taken as input\n",
    "Input = [[1.82149994e+02, 1.83089996e+02, 1.80880005e+02, 1.81910004e+02, 7.19836000e+07],\n",
    "        [1.82149994e+02, 1.83089996e+02, 1.80880005e+02, 1.81910004e+02, 7.19836000e+07],\n",
    "        [1.82149994e+02, 1.83089996e+02, 1.80880005e+02, 1.81910004e+02, 7.19836000e+07]]\n",
    "\n",
    "Serialized_Input = ','.join(map(str, Input[0]))\n",
    "print(Serialized_Input, type(Serialized_Input))\n",
    "\n",
    "Y_pred = xgb_predictor.predict(Serialized_Input).decode('utf-8')\n",
    "Y_pred"
   ]
  },
  {
   "cell_type": "markdown",
   "id": "fc484e9f",
   "metadata": {},
   "source": [
    "# Lambda function handler\n",
    "### Inference - Lambda function (Base) "
   ]
  },
  {
   "cell_type": "code",
   "execution_count": 39,
   "id": "93654cbc",
   "metadata": {},
   "outputs": [],
   "source": [
    "import boto3\n",
    "\n",
    "ENDPOINT_NAME = 'sagemaker-xgboost-2024-11-12-11-48-01-899'\n",
    "runtime = boto3.client('runtime.sagemaker')\n",
    "\n",
    "def lambda_handler(event, context):\n",
    "    inputs = event['data']\n",
    "    # for loop for multiple inference\n",
    "    result = []\n",
    "    for input in inputs:\n",
    "        serialized_input = ','.join(map(str, input))\n",
    "    \n",
    "        response = runtime.invoke_endpoint(EndpointName = ENDPOINT_NAME, \n",
    "                                       ContentType = 'text/csv',\n",
    "                                      Body = serialized_input)\n",
    "        response = response['Body'].read().strip()\n",
    "        result.append(response.decode())\n",
    "    return result"
   ]
  },
  {
   "cell_type": "code",
   "execution_count": 40,
   "id": "49ac651a",
   "metadata": {},
   "outputs": [
    {
     "data": {
      "text/plain": [
       "['180.4252471923828', '180.4252471923828', '180.4252471923828']"
      ]
     },
     "execution_count": 40,
     "metadata": {},
     "output_type": "execute_result"
    }
   ],
   "source": [
    "Input_json = {'data':\n",
    "        [[1.82149994e+02, 1.83089996e+02, 1.80880005e+02, 1.81910004e+02, 7.19836000e+07],\n",
    "        [1.82149994e+02, 1.83089996e+02, 1.80880005e+02, 1.81910004e+02, 7.19836000e+07],\n",
    "        [1.82149994e+02, 1.83089996e+02, 1.80880005e+02, 1.81910004e+02, 7.19836000e+07]]\n",
    "             }\n",
    "\n",
    "result = lambda_handler(Input_json, __)\n",
    "result"
   ]
  },
  {
   "cell_type": "markdown",
   "id": "d03fa323",
   "metadata": {},
   "source": [
    "# Send results via email\n",
    "\n",
    "## Using API Gateway to make a POST request"
   ]
  },
  {
   "cell_type": "code",
   "execution_count": 42,
   "id": "08773cbb",
   "metadata": {},
   "outputs": [],
   "source": [
    "# importing the requests library\n",
    "import requests\n",
    "\n",
    "# defining the api-endpoint\n",
    "API_ENDPOINT = \"https://g21946ocwg.execute-api.eu-central-1.amazonaws.com/xgbmodel\"\n",
    "\n",
    "# data to be sent to api\n",
    "json = {\"data\": [[1.82149994e+02, 1.83089996e+02, 1.80880005e+02, 1.81910004e+02, 7.19836000e+07],\n",
    "        [1.82149994e+02, 1.83089996e+02, 1.80880005e+02, 1.81910004e+02, 7.19836000e+07],\n",
    "        [1.82149994e+02, 1.83089996e+02, 1.80880005e+02, 1.81910004e+02, 7.19836000e+07]]\n",
    "       }\n",
    "\n",
    "# sending post request and saving response as response object\n",
    "r = requests.post(url = API_ENDPOINT, json = json)"
   ]
  },
  {
   "cell_type": "code",
   "execution_count": 44,
   "id": "699eae03",
   "metadata": {},
   "outputs": [
    {
     "name": "stdout",
     "output_type": "stream",
     "text": [
      "Status Code: 200, Response: ['180.4252471923828', '180.4252471923828', '180.4252471923828']\n"
     ]
    }
   ],
   "source": [
    "# Status code 200 means everything is OK\n",
    "print(f\"Status Code: {r.status_code}, Response: {r.json()}\")"
   ]
  },
  {
   "cell_type": "code",
   "execution_count": null,
   "id": "a9976343",
   "metadata": {},
   "outputs": [],
   "source": []
  },
  {
   "cell_type": "markdown",
   "id": "e338b7b3",
   "metadata": {},
   "source": [
    "# Close and Terminate"
   ]
  },
  {
   "cell_type": "code",
   "execution_count": 45,
   "id": "7cce0c6e",
   "metadata": {},
   "outputs": [
    {
     "name": "stderr",
     "output_type": "stream",
     "text": [
      "WARNING:sagemaker.deprecations:The endpoint attribute has been renamed in sagemaker>=2.\n",
      "See: https://sagemaker.readthedocs.io/en/stable/v2.html for details.\n",
      "INFO:sagemaker:Deleting endpoint with name: sagemaker-xgboost-2024-11-12-11-48-01-899\n"
     ]
    }
   ],
   "source": [
    "sagemaker.Session().delete_endpoint(xgb_predictor.endpoint)"
   ]
  },
  {
   "cell_type": "code",
   "execution_count": 46,
   "id": "8536c5d0",
   "metadata": {},
   "outputs": [
    {
     "data": {
      "text/plain": [
       "[{'ResponseMetadata': {'RequestId': 'QPW0NKW4QTBTJ98T',\n",
       "   'HostId': '0fDezRdJe1yzsZiSuBGIrKglv/SbmFNo1Sw91ewrdjT2PcbvDta3QqCQh6n8LiifLesDMI1aDZSYVvA7c8wmjGFagmOBiAIcDh/2rf0WD3c=',\n",
       "   'HTTPStatusCode': 200,\n",
       "   'HTTPHeaders': {'x-amz-id-2': '0fDezRdJe1yzsZiSuBGIrKglv/SbmFNo1Sw91ewrdjT2PcbvDta3QqCQh6n8LiifLesDMI1aDZSYVvA7c8wmjGFagmOBiAIcDh/2rf0WD3c=',\n",
       "    'x-amz-request-id': 'QPW0NKW4QTBTJ98T',\n",
       "    'date': 'Tue, 12 Nov 2024 14:36:33 GMT',\n",
       "    'connection': 'close',\n",
       "    'content-type': 'application/xml',\n",
       "    'transfer-encoding': 'chunked',\n",
       "    'server': 'AmazonS3'},\n",
       "   'RetryAttempts': 0},\n",
       "  'Deleted': [{'Key': 'xgboost-as-a-built-in-algo/output/sagemaker-xgboost-2024-11-12-11-42-07-500/debug-output/index/000000000/000000000000_worker_0.json'},\n",
       "   {'Key': 'xgboost-as-a-built-in-algo/output/sagemaker-xgboost-2024-11-12-11-42-07-500/debug-output/events/000000000010/000000000010_worker_0.tfevents'},\n",
       "   {'Key': 'xgboost-as-a-built-in-algo/output/sagemaker-xgboost-2024-11-12-11-42-07-500/profiler-output/framework/training_job_end.ts'},\n",
       "   {'Key': 'xgboost-as-a-built-in-algo/output/sagemaker-xgboost-2024-11-12-11-42-07-500/profiler-output/system/incremental/2024111211/1731411840.algo-1.json'},\n",
       "   {'Key': 'xgboost-as-a-built-in-algo/output/sagemaker-xgboost-2024-11-12-11-42-07-500/debug-output/index/000000000/000000000030_worker_0.json'},\n",
       "   {'Key': 'xgboost-as-a-built-in-algo/output/sagemaker-xgboost-2024-11-12-11-42-07-500/debug-output/index/000000000/000000000040_worker_0.json'},\n",
       "   {'Key': 'xgboost-as-a-built-in-algo/output/sagemaker-xgboost-2024-11-12-11-42-07-500/debug-output/index/000000000/000000000010_worker_0.json'},\n",
       "   {'Key': 'xgboost-as-a-built-in-algo/output/sagemaker-xgboost-2024-11-12-11-42-07-500/debug-output/claim.smd'},\n",
       "   {'Key': 'xgboost-as-a-built-in-algo/output/sagemaker-xgboost-2024-11-12-11-42-07-500/profiler-output/system/incremental/2024111211/1731411780.algo-1.json'},\n",
       "   {'Key': 'xgboost-as-a-built-in-algo/output/sagemaker-xgboost-2024-11-12-11-42-07-500/profiler-output/system/training_job_end.ts'},\n",
       "   {'Key': 'xgboost-as-a-built-in-algo/output/sagemaker-xgboost-2024-11-12-11-42-07-500/debug-output/events/000000000020/000000000020_worker_0.tfevents'},\n",
       "   {'Key': 'xgboost-as-a-built-in-algo/output/sagemaker-xgboost-2024-11-12-11-42-07-500/debug-output/training_job_end.ts'},\n",
       "   {'Key': 'xgboost-as-a-built-in-algo/output/sagemaker-xgboost-2024-11-12-11-42-07-500/debug-output/events/000000000040/000000000040_worker_0.tfevents'},\n",
       "   {'Key': 'xgboost-as-a-built-in-algo/output/sagemaker-xgboost-2024-11-12-11-42-07-500/debug-output/events/000000000000/000000000000_worker_0.tfevents'},\n",
       "   {'Key': 'xgboost-as-a-built-in-algo/output/sagemaker-xgboost-2024-11-12-11-42-07-500/debug-output/events/000000000030/000000000030_worker_0.tfevents'},\n",
       "   {'Key': 'xgboost-as-a-built-in-algo/test/test.csv'},\n",
       "   {'Key': 'xgboost-as-a-built-in-algo/output/sagemaker-xgboost-2024-11-12-11-42-07-500/debug-output/collections/000000000/worker_0_collections.json'},\n",
       "   {'Key': 'xgboost-as-a-built-in-algo/output/sagemaker-xgboost-2024-11-12-11-42-07-500/debug-output/index/000000000/000000000020_worker_0.json'},\n",
       "   {'Key': 'xgboost-as-a-built-in-algo/output/sagemaker-xgboost-2024-11-12-11-42-07-500/output/model.tar.gz'},\n",
       "   {'Key': 'xgboost-as-a-built-in-algo/output/sagemaker-xgboost-2024-11-12-11-42-07-500/profiler-output/system/incremental/2024111211/1731411900.algo-1.json'},\n",
       "   {'Key': 'xgboost-as-a-built-in-algo/train/train.csv'}]}]"
      ]
     },
     "execution_count": 46,
     "metadata": {},
     "output_type": "execute_result"
    }
   ],
   "source": [
    "bucket_to_delete = boto3.resource('s3').Bucket(bucket_name)\n",
    "bucket_to_delete.objects.all().delete()"
   ]
  },
  {
   "cell_type": "code",
   "execution_count": null,
   "id": "5d65ef79",
   "metadata": {},
   "outputs": [],
   "source": []
  },
  {
   "cell_type": "markdown",
   "id": "1ca9ecf0",
   "metadata": {},
   "source": [
    "# Extra code: Function wrote in Amazon Lambda"
   ]
  },
  {
   "cell_type": "code",
   "execution_count": null,
   "id": "a5d2b3df",
   "metadata": {},
   "outputs": [],
   "source": [
    "import boto3\n",
    "\n",
    "ENDPOINT_NAME = 'sagemaker-xgboost-2024-11-12-11-48-01-899'\n",
    "runtime = boto3.client('runtime.sagemaker')\n",
    "email_client = boto3.client('sns')\n",
    "\n",
    "def lambda_handler(event, context):\n",
    "    inputs = event['data']\n",
    "    # for loop for multiple inference\n",
    "    result = []\n",
    "    for input in inputs:\n",
    "        serialized_input = ','.join(map(str, input))\n",
    "    \n",
    "        response = runtime.invoke_endpoint(EndpointName = ENDPOINT_NAME, \n",
    "                                       ContentType = 'text/csv',\n",
    "                                      Body = serialized_input)\n",
    "        response = response['Body'].read().strip()\n",
    "        result.append(response.decode())\n",
    "\n",
    "    response_sns = email_client.publish(\n",
    "        TopicArn = 'arn:aws:sns:eu-central-1:010438479781:TopicStockPricePredictionGPK',\n",
    "        Message = 'Good day! The prediction/s is/are ' + str(result),\n",
    "        Subject = 'Finance - Daily Prediction for Apple Inc.')\n",
    "    \n",
    "    return result"
   ]
  }
 ],
 "metadata": {
  "kernelspec": {
   "display_name": "Python 3 (ipykernel)",
   "language": "python",
   "name": "python3"
  },
  "language_info": {
   "codemirror_mode": {
    "name": "ipython",
    "version": 3
   },
   "file_extension": ".py",
   "mimetype": "text/x-python",
   "name": "python",
   "nbconvert_exporter": "python",
   "pygments_lexer": "ipython3",
   "version": "3.10.14"
  }
 },
 "nbformat": 4,
 "nbformat_minor": 5
}
